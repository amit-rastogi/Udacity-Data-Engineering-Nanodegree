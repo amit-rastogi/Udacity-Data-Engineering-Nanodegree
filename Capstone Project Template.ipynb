{
 "cells": [
  {
   "cell_type": "markdown",
   "metadata": {
    "editable": true
   },
   "source": [
    "# Project Title\n",
    "### Data Engineering Capstone Project\n",
    "\n",
    "#### Project Summary\n",
    "This Project would use the MovieLens dataset to create an ETL pipeline for creating a data warehouse. The data warehouse could be used to analyze the MovieLens dataset using OLAP cubes.\n",
    "\n",
    "The project follows the follow steps:\n",
    "* Step 1: Scope the Project and Gather Data\n",
    "* Step 2: Explore and Assess the Data\n",
    "* Step 3: Define the Data Model\n",
    "* Step 4: Run ETL to Model the Data\n",
    "* Step 5: Complete Project Write Up"
   ]
  },
  {
   "cell_type": "code",
   "execution_count": 2,
   "metadata": {
    "editable": true
   },
   "outputs": [],
   "source": [
    "# Do all imports and installs here\n",
    "import pandas as pd\n",
    "import psycopg2\n",
    "from pyspark.sql import SparkSession\n",
    "import os\n",
    "from pyspark.sql.types import StructType as R, StructField as F, IntegerType as Int, StringType as Str"
   ]
  },
  {
   "cell_type": "markdown",
   "metadata": {
    "editable": true
   },
   "source": [
    "#### Scope \n",
    "The Project's scope is to use the MovieLens dataset to create an ETL pipeline for creating a data warehouse in AWS Redshift.",
    "#### Data Description \n",
    "The project would be using the MovieLens 1M dataset which contains 1 million ratings from 6000 users on 4000 movies. Released in 2/2003.\n",
    "\n",
    "The MovieLens dataset has been downloaded from https://grouplens.org/datasets/movielens/1m/.\n",
    "\n",
    "The data are contained in the files movies.dat, ratings.dat and users.dat"
   ]
  },
  {
   "cell_type": "code",
   "execution_count": 2,
   "metadata": {
    "editable": true
   },
   "outputs": [
    {
     "data": {
      "text/html": [
       "<div>\n",
       "<style scoped>\n",
       "    .dataframe tbody tr th:only-of-type {\n",
       "        vertical-align: middle;\n",
       "    }\n",
       "\n",
       "    .dataframe tbody tr th {\n",
       "        vertical-align: top;\n",
       "    }\n",
       "\n",
       "    .dataframe thead th {\n",
       "        text-align: right;\n",
       "    }\n",
       "</style>\n",
       "<table border=\"1\" class=\"dataframe\">\n",
       "  <thead>\n",
       "    <tr style=\"text-align: right;\">\n",
       "      <th></th>\n",
       "      <th>movieId</th>\n",
       "      <th>title</th>\n",
       "      <th>genres</th>\n",
       "    </tr>\n",
       "  </thead>\n",
       "  <tbody>\n",
       "    <tr>\n",
       "      <th>0</th>\n",
       "      <td>1</td>\n",
       "      <td>Toy Story (1995)</td>\n",
       "      <td>Animation|Children's|Comedy</td>\n",
       "    </tr>\n",
       "    <tr>\n",
       "      <th>1</th>\n",
       "      <td>2</td>\n",
       "      <td>Jumanji (1995)</td>\n",
       "      <td>Adventure|Children's|Fantasy</td>\n",
       "    </tr>\n",
       "    <tr>\n",
       "      <th>2</th>\n",
       "      <td>3</td>\n",
       "      <td>Grumpier Old Men (1995)</td>\n",
       "      <td>Comedy|Romance</td>\n",
       "    </tr>\n",
       "    <tr>\n",
       "      <th>3</th>\n",
       "      <td>4</td>\n",
       "      <td>Waiting to Exhale (1995)</td>\n",
       "      <td>Comedy|Drama</td>\n",
       "    </tr>\n",
       "    <tr>\n",
       "      <th>4</th>\n",
       "      <td>5</td>\n",
       "      <td>Father of the Bride Part II (1995)</td>\n",
       "      <td>Comedy</td>\n",
       "    </tr>\n",
       "  </tbody>\n",
       "</table>\n",
       "</div>"
      ],
      "text/plain": [
       "   movieId                               title                        genres\n",
       "0        1                    Toy Story (1995)   Animation|Children's|Comedy\n",
       "1        2                      Jumanji (1995)  Adventure|Children's|Fantasy\n",
       "2        3             Grumpier Old Men (1995)                Comedy|Romance\n",
       "3        4            Waiting to Exhale (1995)                  Comedy|Drama\n",
       "4        5  Father of the Bride Part II (1995)                        Comedy"
      ]
     },
     "execution_count": 2,
     "metadata": {},
     "output_type": "execute_result"
    }
   ],
   "source": [
    "# Read in the movie data here\n",
    "columns = ['movieId','title','genres']\n",
    "movies_df = pd.read_csv('movielens-1m/movies.dat', delimiter='::', header=None, names=columns, engine='python')\n",
    "movies_df.head(5)"
   ]
  },
  {
   "cell_type": "code",
   "execution_count": 3,
   "metadata": {
    "editable": true
   },
   "outputs": [
    {
     "data": {
      "text/html": [
       "<div>\n",
       "<style scoped>\n",
       "    .dataframe tbody tr th:only-of-type {\n",
       "        vertical-align: middle;\n",
       "    }\n",
       "\n",
       "    .dataframe tbody tr th {\n",
       "        vertical-align: top;\n",
       "    }\n",
       "\n",
       "    .dataframe thead th {\n",
       "        text-align: right;\n",
       "    }\n",
       "</style>\n",
       "<table border=\"1\" class=\"dataframe\">\n",
       "  <thead>\n",
       "    <tr style=\"text-align: right;\">\n",
       "      <th></th>\n",
       "      <th>userId</th>\n",
       "      <th>gender</th>\n",
       "      <th>age</th>\n",
       "      <th>occupation</th>\n",
       "      <th>zipcode</th>\n",
       "    </tr>\n",
       "  </thead>\n",
       "  <tbody>\n",
       "    <tr>\n",
       "      <th>0</th>\n",
       "      <td>1</td>\n",
       "      <td>F</td>\n",
       "      <td>1</td>\n",
       "      <td>10</td>\n",
       "      <td>48067</td>\n",
       "    </tr>\n",
       "    <tr>\n",
       "      <th>1</th>\n",
       "      <td>2</td>\n",
       "      <td>M</td>\n",
       "      <td>56</td>\n",
       "      <td>16</td>\n",
       "      <td>70072</td>\n",
       "    </tr>\n",
       "    <tr>\n",
       "      <th>2</th>\n",
       "      <td>3</td>\n",
       "      <td>M</td>\n",
       "      <td>25</td>\n",
       "      <td>15</td>\n",
       "      <td>55117</td>\n",
       "    </tr>\n",
       "    <tr>\n",
       "      <th>3</th>\n",
       "      <td>4</td>\n",
       "      <td>M</td>\n",
       "      <td>45</td>\n",
       "      <td>7</td>\n",
       "      <td>02460</td>\n",
       "    </tr>\n",
       "    <tr>\n",
       "      <th>4</th>\n",
       "      <td>5</td>\n",
       "      <td>M</td>\n",
       "      <td>25</td>\n",
       "      <td>20</td>\n",
       "      <td>55455</td>\n",
       "    </tr>\n",
       "  </tbody>\n",
       "</table>\n",
       "</div>"
      ],
      "text/plain": [
       "   userId gender  age  occupation zipcode\n",
       "0       1      F    1          10   48067\n",
       "1       2      M   56          16   70072\n",
       "2       3      M   25          15   55117\n",
       "3       4      M   45           7   02460\n",
       "4       5      M   25          20   55455"
      ]
     },
     "execution_count": 3,
     "metadata": {},
     "output_type": "execute_result"
    }
   ],
   "source": [
    "#Read in the users data\n",
    "columns = ['userId', 'gender', 'age', 'occupation', 'zipcode']\n",
    "users_df = pd.read_csv('movielens-1m/users.dat', delimiter='::', header=None, names=columns, engine='python')\n",
    "users_df.head(5)"
   ]
  },
  {
   "cell_type": "code",
   "execution_count": 4,
   "metadata": {
    "editable": true
   },
   "outputs": [
    {
     "data": {
      "text/html": [
       "<div>\n",
       "<style scoped>\n",
       "    .dataframe tbody tr th:only-of-type {\n",
       "        vertical-align: middle;\n",
       "    }\n",
       "\n",
       "    .dataframe tbody tr th {\n",
       "        vertical-align: top;\n",
       "    }\n",
       "\n",
       "    .dataframe thead th {\n",
       "        text-align: right;\n",
       "    }\n",
       "</style>\n",
       "<table border=\"1\" class=\"dataframe\">\n",
       "  <thead>\n",
       "    <tr style=\"text-align: right;\">\n",
       "      <th></th>\n",
       "      <th>userId</th>\n",
       "      <th>movieId</th>\n",
       "      <th>rating</th>\n",
       "      <th>timestamp</th>\n",
       "    </tr>\n",
       "  </thead>\n",
       "  <tbody>\n",
       "    <tr>\n",
       "      <th>0</th>\n",
       "      <td>1</td>\n",
       "      <td>1193</td>\n",
       "      <td>5</td>\n",
       "      <td>978300760</td>\n",
       "    </tr>\n",
       "    <tr>\n",
       "      <th>1</th>\n",
       "      <td>1</td>\n",
       "      <td>661</td>\n",
       "      <td>3</td>\n",
       "      <td>978302109</td>\n",
       "    </tr>\n",
       "    <tr>\n",
       "      <th>2</th>\n",
       "      <td>1</td>\n",
       "      <td>914</td>\n",
       "      <td>3</td>\n",
       "      <td>978301968</td>\n",
       "    </tr>\n",
       "    <tr>\n",
       "      <th>3</th>\n",
       "      <td>1</td>\n",
       "      <td>3408</td>\n",
       "      <td>4</td>\n",
       "      <td>978300275</td>\n",
       "    </tr>\n",
       "    <tr>\n",
       "      <th>4</th>\n",
       "      <td>1</td>\n",
       "      <td>2355</td>\n",
       "      <td>5</td>\n",
       "      <td>978824291</td>\n",
       "    </tr>\n",
       "  </tbody>\n",
       "</table>\n",
       "</div>"
      ],
      "text/plain": [
       "   userId  movieId  rating  timestamp\n",
       "0       1     1193       5  978300760\n",
       "1       1      661       3  978302109\n",
       "2       1      914       3  978301968\n",
       "3       1     3408       4  978300275\n",
       "4       1     2355       5  978824291"
      ]
     },
     "execution_count": 4,
     "metadata": {},
     "output_type": "execute_result"
    }
   ],
   "source": [
    "#Read in the ratings data\n",
    "columns = ['userId', 'movieId', 'rating', 'timestamp']\n",
    "ratings_df = pd.read_csv('movielens-1m/ratings.dat', delimiter='::', header=None, names=columns, engine='python')\n",
    "ratings_df.head(5)"
   ]
  },
  {
   "cell_type": "markdown",
   "metadata": {
    "editable": true
   },
   "source": [
    "### Data Cleaning and Pre-processing\n",
    "\n",
    "- Cleaning\n",
    "\n",
    "  We would perform the the following cleaning steps for all the data files\n",
    "  - check for missing values\n",
    "  - check for duplicate values\n",
    "\n",
    "- Preprocessing\n",
    "  \n",
    "  Preprocessing would consist of following 2 steps-\n",
    "  - Add occupation column to users table with specific occupation names as per Readme of movielens_1m dataset to\n",
    "    enrich the data for analyzing the movies data w.r.t various occupation.\n",
    "  - Add age group column to users table with age group as per Readme of movielens_1m dataset to\n",
    "    enrich the data for analyzing the movies data w.r.t various age groups.\n",
    "  - The movielens dataset have :: as record delimiter. Since S3 copy command cannot handle more than one\n",
    "    ascii character as delimiter hence we would write the pandas dataframes created above for movies, users and\n",
    "    rating data to parquet format in S3. During ETL step we would use S3 copy to load the data from parquet files\n",
    "    to staging tables."
   ]
  },
  {
   "cell_type": "code",
   "execution_count": 5,
   "metadata": {
    "editable": true
   },
   "outputs": [
    {
     "data": {
      "text/plain": [
       "movieId    0\n",
       "title      0\n",
       "genres     0\n",
       "dtype: int64"
      ]
     },
     "execution_count": 5,
     "metadata": {},
     "output_type": "execute_result"
    }
   ],
   "source": [
    "# check missing values for movies data\n",
    "movies_df.isnull().sum()"
   ]
  },
  {
   "cell_type": "code",
   "execution_count": 6,
   "metadata": {
    "editable": true
   },
   "outputs": [
    {
     "data": {
      "text/plain": [
       "userId        0\n",
       "gender        0\n",
       "age           0\n",
       "occupation    0\n",
       "zipcode       0\n",
       "dtype: int64"
      ]
     },
     "execution_count": 6,
     "metadata": {},
     "output_type": "execute_result"
    }
   ],
   "source": [
    "# check missing values for users data\n",
    "users_df.isnull().sum()"
   ]
  },
  {
   "cell_type": "code",
   "execution_count": 7,
   "metadata": {
    "editable": true
   },
   "outputs": [
    {
     "data": {
      "text/plain": [
       "userId       0\n",
       "movieId      0\n",
       "rating       0\n",
       "timestamp    0\n",
       "dtype: int64"
      ]
     },
     "execution_count": 7,
     "metadata": {},
     "output_type": "execute_result"
    }
   ],
   "source": [
    "# check missing values for ratings data\n",
    "ratings_df.isnull().sum()"
   ]
  },
  {
   "cell_type": "code",
   "execution_count": 8,
   "metadata": {
    "editable": true
   },
   "outputs": [
    {
     "data": {
      "text/plain": [
       "0"
      ]
     },
     "execution_count": 8,
     "metadata": {},
     "output_type": "execute_result"
    }
   ],
   "source": [
    "# check duplicate values for movies data\n",
    "movies_df['title'].duplicated().sum()"
   ]
  },
  {
   "cell_type": "code",
   "execution_count": 9,
   "metadata": {
    "editable": true
   },
   "outputs": [
    {
     "data": {
      "text/plain": [
       "0"
      ]
     },
     "execution_count": 9,
     "metadata": {},
     "output_type": "execute_result"
    }
   ],
   "source": [
    "# check duplicate values for users data\n",
    "users_df['userId'].duplicated().sum()"
   ]
  },
  {
   "cell_type": "code",
   "execution_count": 10,
   "metadata": {
    "editable": true
   },
   "outputs": [
    {
     "data": {
      "text/plain": [
       "0"
      ]
     },
     "execution_count": 10,
     "metadata": {},
     "output_type": "execute_result"
    }
   ],
   "source": [
    "# check duplicate values for ratings data\n",
    "ratings_df.duplicated(['userId', 'movieId']).sum()"
   ]
  },
  {
   "cell_type": "code",
   "execution_count": 5,
   "metadata": {
    "editable": true
   },
   "outputs": [
    {
     "data": {
      "text/html": [
       "<div>\n",
       "<style scoped>\n",
       "    .dataframe tbody tr th:only-of-type {\n",
       "        vertical-align: middle;\n",
       "    }\n",
       "\n",
       "    .dataframe tbody tr th {\n",
       "        vertical-align: top;\n",
       "    }\n",
       "\n",
       "    .dataframe thead th {\n",
       "        text-align: right;\n",
       "    }\n",
       "</style>\n",
       "<table border=\"1\" class=\"dataframe\">\n",
       "  <thead>\n",
       "    <tr style=\"text-align: right;\">\n",
       "      <th></th>\n",
       "      <th>userId</th>\n",
       "      <th>gender</th>\n",
       "      <th>zipcode</th>\n",
       "      <th>occupation</th>\n",
       "      <th>age_group</th>\n",
       "    </tr>\n",
       "  </thead>\n",
       "  <tbody>\n",
       "    <tr>\n",
       "      <th>0</th>\n",
       "      <td>1</td>\n",
       "      <td>F</td>\n",
       "      <td>48067</td>\n",
       "      <td>K-12 student</td>\n",
       "      <td>Under 18</td>\n",
       "    </tr>\n",
       "    <tr>\n",
       "      <th>222</th>\n",
       "      <td>2</td>\n",
       "      <td>M</td>\n",
       "      <td>70072</td>\n",
       "      <td>self-employed</td>\n",
       "      <td>56+</td>\n",
       "    </tr>\n",
       "    <tr>\n",
       "      <th>602</th>\n",
       "      <td>3</td>\n",
       "      <td>M</td>\n",
       "      <td>55117</td>\n",
       "      <td>scientist</td>\n",
       "      <td>25-34</td>\n",
       "    </tr>\n",
       "    <tr>\n",
       "      <th>2698</th>\n",
       "      <td>4</td>\n",
       "      <td>M</td>\n",
       "      <td>02460</td>\n",
       "      <td>executive/managerial</td>\n",
       "      <td>45-49</td>\n",
       "    </tr>\n",
       "    <tr>\n",
       "      <th>603</th>\n",
       "      <td>5</td>\n",
       "      <td>M</td>\n",
       "      <td>55455</td>\n",
       "      <td>writer</td>\n",
       "      <td>25-34</td>\n",
       "    </tr>\n",
       "  </tbody>\n",
       "</table>\n",
       "</div>"
      ],
      "text/plain": [
       "      userId gender zipcode            occupation age_group\n",
       "0          1      F   48067          K-12 student  Under 18\n",
       "222        2      M   70072         self-employed       56+\n",
       "602        3      M   55117             scientist     25-34\n",
       "2698       4      M   02460  executive/managerial     45-49\n",
       "603        5      M   55455                writer     25-34"
      ]
     },
     "execution_count": 5,
     "metadata": {},
     "output_type": "execute_result"
    }
   ],
   "source": [
    "#Enriching the users data with occupation\n",
    "\n",
    "occupation = [[0, \"other or not specified\"], [1, \"academic/educator\"], [2, \"artist\"], [3, \"clerical/admin\"],\n",
    "              [4, \"college/grad student\"], [5, \"customer service\"], [6, \"doctor/health care\"], \n",
    "              [7, \"executive/managerial\"], [8, \"farmer\"], [9, \"homemaker\"], [10, \"K-12 student\"],\n",
    "              [11, \"lawyer\"], [12, \"programmer\"], [13, \"retired\"], [14, \"sales/marketing\"], [15, \"scientist\"],\n",
    "              [16, \"self-employed\"], [17, \"technician/engineer\"], [18, \"tradesman/craftsman\"], [19, \"unemployed\"],\n",
    "              [20, \"writer\"]]\n",
    "\n",
    "#create the occupation table\n",
    "occupation_df = pd.DataFrame(occupation, columns = ['occupation', 'occupation_detail']) \n",
    "\n",
    "#merge occupation table with users dataframe on the occupation column\n",
    "users_df = users_df.merge(occupation_df, how='inner', on='occupation').sort_values('userId')\n",
    "\n",
    "#delete previous occupation column and rename occupation_detail to occupation in the merged dataframe\n",
    "del users_df['occupation']\n",
    "users_df.rename(columns = {'occupation_detail':'occupation'}, inplace = True)\n",
    "\n",
    "#Enriching the users data with age group\n",
    "age_group = [[1, \"Under 18\"],[18, \"18-24\"],[25, \"25-34\"], [35, \"35-44\"], [45, \"45-49\"], [50, \"50-55\"], [56, \"56+\"]]\n",
    "\n",
    "age_group_df = pd.DataFrame(age_group, columns = ['age', 'age_group'])\n",
    "\n",
    "users_df = users_df.merge(age_group_df, how='inner', on='age').sort_values('userId')\n",
    "\n",
    "del users_df['age']\n",
    "users_df.head(5)"
   ]
  },
  {
   "cell_type": "code",
   "execution_count": 6,
   "metadata": {
    "editable": true
   },
   "outputs": [],
   "source": [
    "#for pre-processing .dat files to load spark dataframes as parquet files to S3 for removing :: delimiter \n",
    "os.environ['AWS_ACCESS_KEY_ID']='' #removed for security\n",
    "os.environ['AWS_SECRET_ACCESS_KEY']='' #removed for security\n",
    "s3_path = 's3a://movielens-1m/'\n",
    "\n",
    "#Create spark session\n",
    "spark = SparkSession \\\n",
    "        .builder \\\n",
    "        .config(\"spark.jars.packages\", \"org.apache.hadoop:hadoop-aws:2.7.0\") \\\n",
    "        .getOrCreate()\n",
    "\n",
    "movieSchema = R([\n",
    "    F(\"movieId\", Int()),\n",
    "    F(\"title\", Str()),\n",
    "    F(\"genres\", Str()),\n",
    "])\n",
    "\n",
    "#convert pandas dataframe to spark dataframe\n",
    "movies_df = spark.createDataFrame(movies_df, movieSchema)\n",
    "movies_df.write.parquet(s3_path + \"movies.parquet\")\n",
    "\n",
    "userSchema = R([\n",
    "    F(\"userId\", Int()),\n",
    "    F(\"gender\", Str()),\n",
    "    F(\"zipcode\", Str()),\n",
    "    F(\"occupation\", Str()),\n",
    "    F(\"age_group\", Str())    \n",
    "])\n",
    " \n",
    "#convert pandas dataframe to spark dataframe\n",
    "users_df = spark.createDataFrame(users_df, userSchema)\n",
    "users_df.write.parquet(s3_path + \"users.parquet\")\n",
    "\n",
    "ratingSchema = R([\n",
    "    F(\"userId\", Int()),\n",
    "    F(\"movieId\", Int()),\n",
    "    F(\"rating\", Int()),\n",
    "    F(\"timestamp\", Int())\n",
    "])\n",
    "\n",
    "#convert pandas dataframe to spark dataframe\n",
    "ratings_df = spark.createDataFrame(ratings_df, ratingSchema)\n",
    "ratings_df.write.parquet(s3_path + \"ratings.parquet\")"
   ]
  },
  {
   "cell_type": "markdown",
   "metadata": {
    "editable": true
   },
   "source": [
    "### Data Modelling\n",
    "We would model the data as relational tables. The following tables would be creating during staging, each of them corresponding to the movielens data files-\n",
    "\n",
    "- staging_movies (movieId, title, genres)\n",
    "- staging_users (userId, gender, age_group, occupation, zipcode)\n",
    "- staging_ratings (userId, movieId, rating, timestamp)\n",
    "\n",
    "From the staging tables we would create a star schema consisting of the following fact and dimensional tables-\n",
    "- Fact table\n",
    "  - rating (userId, movieId, rating, timestamp)\n",
    "\n",
    "- Dimensional tables\n",
    "  - user (userId, gender, age_group_id, occupation_id, zipcodeId)\n",
    "  - occupation (occupation_id, occupation)\n",
    "  - age_group (age_group_id, age_group)\n",
    "  - movie (movieId, title)\n",
    "  - zipcode (zipcodeId, zipcode)"
   ]
  },
  {
   "cell_type": "code",
   "execution_count": 4,
   "metadata": {
    "editable": true
   },
   "outputs": [],
   "source": [
    "#create schema for staging tables\n",
    "staging_movies_create = \"\"\"CREATE TABLE IF NOT EXISTS staging_movies\n",
    "                         (movieId int,\n",
    "                          title varchar,\n",
    "                          genres varchar)\"\"\"\n",
    "                          \n",
    "staging_users_create = \"\"\"CREATE TABLE IF NOT EXISTS staging_users\n",
    "                          (userId int,\n",
    "                           gender varchar,\n",
    "                           zipcode varchar,\n",
    "                           occupation varchar,\n",
    "                           age_group varchar)\"\"\"\n",
    "\n",
    "staging_ratings_create = \"\"\"CREATE TABLE IF NOT EXISTS staging_ratings\n",
    "                            (userId int,\n",
    "                             movieId int,\n",
    "                             rating int,\n",
    "                             timestamp int)\"\"\"\n",
    "\n",
    "#create schema for fact and dimensional tables\n",
    "\n",
    "rating_create = \"\"\"CREATE TABLE IF NOT EXISTS rating \n",
    "                   (userId int,\n",
    "                    movieId int,\n",
    "                    rating int,\n",
    "                    timestamp int)\"\"\"\n",
    "\n",
    "user_create = \"\"\"CREATE TABLE IF NOT EXISTS users \n",
    "                 (userId int PRIMARY KEY,\n",
    "                  gender varchar,\n",
    "                  age_group_id int,\n",
    "                  occupation_id int,\n",
    "                  zipcodeId int)\"\"\"\n",
    "\n",
    "movie_create = \"\"\"CREATE TABLE IF NOT EXISTS movie\n",
    "                  (movieId int PRIMARY KEY,\n",
    "                   title varchar)\"\"\"\n",
    "\n",
    "zipcode_create = \"\"\"CREATE TABLE IF NOT EXISTS zipcode\n",
    "                    (zipcodeId int IDENTITY(0,1) PRIMARY KEY,\n",
    "                     zipcode varchar)\"\"\"\n",
    "\n",
    "age_group_create = \"\"\"CREATE TABLE IF NOT EXISTS age_group\n",
    "                      (age_group_id int IDENTITY(0,1) PRIMARY KEY,\n",
    "                       age_group varchar)\"\"\"\n",
    "\n",
    "occupation_create = \"\"\"CREATE TABLE IF NOT EXISTS occupation\n",
    "                       (occupation_id int IDENTITY(0,1) PRIMARY KEY,\n",
    "                        occupation varchar)\"\"\"\n",
    "\n",
    "create_table_queries = [staging_movies_create, staging_users_create, staging_ratings_create, \n",
    "                        zipcode_create, movie_create, user_create, rating_create, age_group_create,\n",
    "                        occupation_create]\n",
    "\n",
    "# Drop table queries\n",
    "staging_movies_drop = \"DROP TABLE IF EXISTS staging_movies\"\n",
    "staging_users_drop = \"DROP TABLE IF EXISTS staging_users\"\n",
    "staging_ratings_drop = \"DROP TABLE IF EXISTS staging_ratings\"\n",
    "zipcode_drop = \"DROP TABLE IF EXISTS zipcode\"\n",
    "age_group_drop = \"DROP TABLE IF EXISTS age_group\"\n",
    "occupation_drop = \"DROP TABLE IF EXISTS occupation\"\n",
    "movie_drop = \"DROP TABLE IF EXISTS movie\"\n",
    "user_drop = \"DROP TABLE IF EXISTS users\"\n",
    "rating_drop = \"DROP TABLE IF EXISTS rating\"\n",
    "\n",
    "drop_table_queries = [staging_movies_drop, staging_users_drop, staging_ratings_drop, zipcode_drop,\n",
    "                      age_group_drop, occupation_drop, movie_drop, user_drop, rating_drop]"
   ]
  },
  {
   "cell_type": "code",
   "execution_count": 5,
   "metadata": {
    "editable": true
   },
   "outputs": [],
   "source": [
    "#Insert queries for fact and dimensional tables\n",
    "movie_table_insert = \"\"\"INSERT INTO movie (movieId, title)\n",
    "                        SELECT movieId, title FROM staging_movies\"\"\"\n",
    "\n",
    "zipcode_table_insert = \"\"\"INSERT into zipcode (zipcode)\n",
    "                          SELECT DISTINCT zipcode FROM staging_users\"\"\"\n",
    "\n",
    "occupation_table_insert = \"\"\"INSERT into occupation (occupation)\n",
    "                             SELECT DISTINCT occupation FROM staging_users\"\"\"\n",
    "\n",
    "age_group_insert = \"\"\"INSERT into age_group (age_group)\n",
    "                      SELECT DISTINCT age_group FROM staging_users\"\"\"\n",
    "\n",
    "user_table_insert = \"\"\"INSERT INTO users (userId, gender, age_group_id, occupation_id, zipcodeId)\n",
    "                       SELECT userId, gender, \n",
    "                       (SELECT age_group_id from age_group WHERE staging_users.age_group=age_group.age_group),\n",
    "                       (SELECT occupation_id from occupation WHERE staging_users.occupation=occupation.occupation),\n",
    "                       (SELECT zipcodeId from zipcode WHERE staging_users.zipcode=zipcode.zipcode)\n",
    "                       FROM staging_users\"\"\"\n",
    "\n",
    "rating_table_insert = \"\"\"INSERT INTO rating (userId, movieId, rating, timestamp)\n",
    "                         SELECT userId, movieId, rating, timestamp\n",
    "                         FROM staging_ratings\n",
    "                         \"\"\"\n",
    "\n",
    "insert_table_queries = [movie_table_insert, rating_table_insert, zipcode_table_insert,\n",
    "                        occupation_table_insert, age_group_insert, user_table_insert]"
   ]
  },
  {
   "cell_type": "markdown",
   "metadata": {
    "editable": true
   },
   "source": [
    "### Data Pipeline\n",
    "The ETL pipeline would consist of the following steps-\n",
    "- create the staging, fact and dimensional tables in AWS Redshift\n",
    "- stage the movielens data from AWS S3 bucket s3://movielens-1m to a Redshift cluster\n",
    "- load data from staging tables to fact and dimensional tables"
   ]
  },
  {
   "cell_type": "code",
   "execution_count": 9,
   "metadata": {
    "editable": true
   },
   "outputs": [],
   "source": [
    "# create data pipeline\n",
    "host = 'redshift-cluster.cznb5fvkwfnu.us-east-1.redshift.amazonaws.com'\n",
    "dbname = 'dev'\n",
    "user='' #removed for security\n",
    "password='' #removed for security\n",
    "port=5439\n",
    "conn = psycopg2.connect(host=host, dbname=dbname, user=user, password=password, port=port)\n",
    "cur = conn.cursor()"
   ]
  },
  {
   "cell_type": "code",
   "execution_count": 6,
   "metadata": {
    "editable": true
   },
   "outputs": [],
   "source": [
    "#build query to copy data from S3 to staging\n",
    "staging_movies_copy = \"\"\"copy staging_movies\n",
    "                         from 's3://movielens-1m/movies.parquet' \n",
    "                         CREDENTIALS 'aws_iam_role=arn:aws:iam::313544258263:role/redshift_role'\n",
    "                         FORMAT AS PARQUET\"\"\"\n",
    "\n",
    "staging_users_copy = \"\"\"copy staging_users \n",
    "                        from 's3://movielens-1m/users.parquet' \n",
    "                        CREDENTIALS 'aws_iam_role=arn:aws:iam::313544258263:role/redshift_role'\n",
    "                        FORMAT AS PARQUET\"\"\"\n",
    "\n",
    "staging_ratings_copy = \"\"\"copy staging_ratings\n",
    "                          from 's3://movielens-1m/ratings.parquet' \n",
    "                          CREDENTIALS 'aws_iam_role=arn:aws:iam::313544258263:role/redshift_role'\n",
    "                          FORMAT AS PARQUET\"\"\"\n",
    "\n",
    "copy_table_queries = [staging_movies_copy, staging_users_copy, staging_ratings_copy]"
   ]
  },
  {
   "cell_type": "code",
   "execution_count": 7,
   "metadata": {
    "editable": true
   },
   "outputs": [],
   "source": [
    "def drop_tables(cur, conn):\n",
    "    for query in drop_table_queries:\n",
    "        cur.execute(query)\n",
    "        conn.commit()\n",
    "\n",
    "\n",
    "def create_tables(cur, conn):\n",
    "    for query in create_table_queries:\n",
    "        cur.execute(query)\n",
    "        conn.commit()\n",
    "        \n",
    "def load_staging_tables(cur, conn):\n",
    "    for query in copy_table_queries:\n",
    "        cur.execute(query)\n",
    "        conn.commit()\n",
    "\n",
    "\n",
    "def insert_tables(cur, conn):\n",
    "    for query in insert_table_queries:\n",
    "        cur.execute(query)\n",
    "        conn.commit()"
   ]
  },
  {
   "cell_type": "code",
   "execution_count": 8,
   "metadata": {
    "editable": true
   },
   "outputs": [],
   "source": [
    "#create staging, fact and dimension tables \n",
    "drop_tables(cur, conn)\n",
    "create_tables(cur, conn)\n",
    "\n",
    "#load staging table from S3\n",
    "load_staging_tables(cur, conn)\n",
    "insert_tables(cur, conn)\n",
    "\n",
    "conn.close()"
   ]
  },
  {
   "cell_type": "markdown",
   "metadata": {
    "editable": true
   },
   "source": [
    "#### 4.2 Data Quality Checks\n",
    "We would perform the following quality checks to validate the ETL pipeline\n",
    "- Check if all staging, dimensional and fact tables have been created\n",
    "- Check if all staging, dimensional and fact tables contain records"
   ]
  },
  {
   "cell_type": "code",
   "execution_count": 18,
   "metadata": {
    "editable": true
   },
   "outputs": [
    {
     "name": "stdout",
     "output_type": "stream",
     "text": [
      "age_group\n",
      "movie\n",
      "occupation\n",
      "rating\n",
      "staging_movies\n",
      "staging_ratings\n",
      "staging_users\n",
      "users\n",
      "zipcode\n",
      "Table age_group contains 7 records\n",
      "Table movie contains 3883 records\n",
      "Table occupation contains 21 records\n",
      "Table rating contains 1000209 records\n",
      "Table staging_movies contains 3883 records\n",
      "Table staging_ratings contains 1000209 records\n",
      "Table staging_users contains 6040 records\n",
      "Table users contains 6040 records\n",
      "Table zipcode contains 3439 records\n"
     ]
    }
   ],
   "source": [
    "# Perform quality checks here\n",
    "#Check if all staging, dimensional and fact tables have been created\n",
    "\n",
    "table_check_query = \"\"\"SELECT DISTINCT tablename FROM PG_TABLE_DEF WHERE schemaname = 'public';\"\"\"\n",
    "cur.execute(table_check_query)\n",
    "records = cur.fetchall()\n",
    "\n",
    "tables = []\n",
    "for rec in records:\n",
    "    print(rec[0])\n",
    "    tables.append(rec[0])\n",
    "\n",
    "#Check if all staging, dimensional and fact tables contain records\n",
    "\n",
    "for table in tables:\n",
    "    query = \"\"\"SELECT COUNT(*) FROM {}\"\"\".format(table)\n",
    "    cur.execute(query)\n",
    "    result = cur.fetchone()\n",
    "    print(\"Table {} contains {} records\".format(table, result[0]))\n",
    "    if result[0] < 1:\n",
    "        print(\"Error in running ETL pipeline. Table {} is empty\".format(table))"
   ]
  },
  {
   "cell_type": "markdown",
   "metadata": {
    "editable": true
   },
   "source": [
    "#### 4.3 Data dictionary \n",
    "- Fact table\n",
    "  - rating \n",
    "    - userId - directly mapped from the staging_rating table in movielens dataset identifies each user.\n",
    "    - movieId - directly mapped from the staging_rating table in movielens dataset identifies each movie\n",
    "    - rating - rating given by each user for a movie\n",
    "    - timestamp - timestamp of the rating\n",
    "\n",
    "- Dimensional tables\n",
    "  - user \n",
    "    - userId - directly mapped from the staging_users table in movielens dataset identifies each user.\n",
    "               Primary key.\n",
    "    - gender - user's gender (either M or F)\n",
    "    - age_group_id - foreign key into the age_group table \n",
    "    - occupation_id - foriegn key into the occupation table \n",
    "    - zipcodeId - foreign key into the zipcode table\n",
    "    \n",
    "  - occupation\n",
    "    - occupation_id - primary key identifier for each occupation record. Auto generated. Primary key.\n",
    "    - occupation - occupation mapped from staging_users table\n",
    "    \n",
    "  - age_group\n",
    "    - age_group_id - primary key identifier for each age_group record. Auto generated. Primary key.\n",
    "    - age_group - age group mapped from staging_users table\n",
    "    \n",
    "  - movie\n",
    "    - movieId - movie id mapped from staging_movies table. Primary key.\n",
    "    - title - movie title mapped from staging_movies table\n",
    "    \n",
    "  - zipcode\n",
    "    - zipcodeId - primary key identifier for each zipcode record. Auto generated. Primary key.\n",
    "    - zipcode - zipcode mapped from staging_users table"
   ]
  },
  {
   "cell_type": "markdown",
   "metadata": {
    "editable": true
   },
   "source": [
    "#### End Remarks\n",
    "The project builds a data warehouse from the movielens dataset for the data analysts and machine learning engineers who could use the same to perform data analysis using OLAP cubes or build a movie recommendation system.\n",
    "\n",
    "#### Rationale for Tools and Technologies used\n",
    "The project uses AWS S3 and Redshift to leverage managed storge and data warehouse infrastructure respectively.\n",
    "\n",
    "#### Rationale for data model choice\n",
    "Since we would be creating a data warehouse solution for this project we have chosen a relational data model using star schema to model the movielens data. The star schema would have benefits in terms of fast aggregrations and simplified queries for performing data analytics on the movielens dataset stored in our data warehouse.  \n",
    "\n",
    "#### Data update frequency \n",
    "Since the project uses movielens dataset hence currently data updation in the staging area is not a major consideration as the data is not updated.\n",
    "\n",
    "#### Scaling considerations\n",
    "\n",
    "- If data increases by 100x - In such a scenario we could use the AWS EMR service to use a spark cluster to run our\n",
    "  ETL pipeline  \n",
    "\n",
    "- The data populates a dashboard that must be updated on a daily basis by 7am every day - In such a scenario we\n",
    "  could create spark jobs which would be submited to EMR cluster on a daily nightly basis so that the data\n",
    "  required by dashboard is updated before 7 am everyday.\n",
    "  \n",
    "- The database needed to be accessed by 100+ people - In such a scenario we can consider migrating our data\n",
    "  warehouse into a data lake. "
   ]
  },
  {
   "cell_type": "code",
   "execution_count": null,
   "metadata": {
    "editable": true
   },
   "outputs": [],
   "source": []
  },
  {
   "cell_type": "code",
   "execution_count": null,
   "metadata": {
    "editable": true
   },
   "outputs": [],
   "source": []
  },
  {
   "cell_type": "code",
   "execution_count": null,
   "metadata": {
    "editable": true
   },
   "outputs": [],
   "source": []
  },
  {
   "cell_type": "code",
   "execution_count": null,
   "metadata": {
    "editable": true
   },
   "outputs": [],
   "source": []
  },
  {
   "cell_type": "code",
   "execution_count": null,
   "metadata": {
    "editable": true
   },
   "outputs": [],
   "source": []
  },
  {
   "cell_type": "code",
   "execution_count": null,
   "metadata": {
    "editable": true
   },
   "outputs": [],
   "source": []
  }
 ],
 "metadata": {
  "kernelspec": {
   "display_name": "Python 3",
   "language": "python",
   "name": "python3"
  },
  "language_info": {
   "codemirror_mode": {
    "name": "ipython",
    "version": 3
   },
   "file_extension": ".py",
   "mimetype": "text/x-python",
   "name": "python",
   "nbconvert_exporter": "python",
   "pygments_lexer": "ipython3",
   "version": "3.6.3"
  }
 },
 "nbformat": 4,
 "nbformat_minor": 4
}
